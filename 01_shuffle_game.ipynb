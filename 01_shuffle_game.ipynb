{
 "cells": [
  {
   "cell_type": "code",
   "execution_count": 1,
   "metadata": {},
   "outputs": [],
   "source": [
    "def player_guess():\n",
    "\tguess = ''\n",
    "\twhile guess not in ['0','1','2']:\n",
    "\t\tguess = input('Pick a number - 0, 1, 2: ')\n",
    "\treturn int(guess)"
   ]
  },
  {
   "cell_type": "code",
   "execution_count": 2,
   "metadata": {},
   "outputs": [],
   "source": [
    "from random import shuffle"
   ]
  },
  {
   "cell_type": "code",
   "execution_count": 3,
   "metadata": {},
   "outputs": [],
   "source": [
    "def shuffle_list(my_list):\n",
    "\tshuffle(my_list)\n",
    "\treturn my_list"
   ]
  },
  {
   "cell_type": "code",
   "execution_count": 4,
   "metadata": {},
   "outputs": [],
   "source": [
    "def check_guess(mixed_list, guess):\n",
    "\tif mixed_list[guess] == 'O':\n",
    "\t\tprint('Correct Guess! :)')\n",
    "\telse:\n",
    "\t\tprint('Wrong Guess! :(')\n",
    "\t\tprint(mixed_list)"
   ]
  },
  {
   "cell_type": "code",
   "execution_count": 7,
   "metadata": {},
   "outputs": [
    {
     "name": "stdout",
     "output_type": "stream",
     "text": [
      "Pick a number - 0, 1, 2: 0\n",
      "Wrong Guess! :(\n",
      "[' ', 'O', ' ']\n"
     ]
    }
   ],
   "source": [
    "my_list = [' ', 'O', ' ']\n",
    "mixed_list = shuffle_list(my_list)\n",
    "guess = player_guess()\n",
    "check_guess(mixed_list, guess)"
   ]
  },
  {
   "cell_type": "code",
   "execution_count": null,
   "metadata": {},
   "outputs": [],
   "source": []
  }
 ],
 "metadata": {
  "kernelspec": {
   "display_name": "Python 3",
   "language": "python3",
   "name": "python3"
  },
  "language_info": {
   "codemirror_mode": {
    "name": "ipython",
    "version": 3
   },
   "file_extension": ".py",
   "mimetype": "text/x-python",
   "name": "python",
   "nbconvert_exporter": "python",
   "pygments_lexer": "ipython3",
   "version": "3.7.0"
  }
 },
 "nbformat": 4,
 "nbformat_minor": 2
}
