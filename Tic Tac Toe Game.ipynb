{
 "cells": [
  {
   "cell_type": "markdown",
   "metadata": {},
   "source": [
    "This is an interactive Tic-Tac-Toe Game for 2 players on same system."
   ]
  },
  {
   "cell_type": "markdown",
   "metadata": {},
   "source": [
    "**Step 1: Write a function that can print out a board. Set up your board as a list, where each index 1-9 corresponds with a number on a number pad, so you get a 3 by 3 board representation.**"
   ]
  },
  {
   "cell_type": "code",
   "execution_count": null,
   "metadata": {},
   "outputs": [],
   "source": [
    "from IPython.display import clear_output"
   ]
  },
  {
   "cell_type": "markdown",
   "metadata": {},
   "source": [
    "**TEST Step 1:** run your function on a test version of the board list, and make adjustments as necessary"
   ]
  },
  {
   "cell_type": "code",
   "execution_count": null,
   "metadata": {},
   "outputs": [],
   "source": [
    "#Function to Display a board\n",
    "def display_board(board):\n",
    "    clear_output()\n",
    "    print(board[0] + ' | ' + board[1] + ' | ' + board[2])\n",
    "    print('---------')\n",
    "    print(board[3] + ' | ' + board[4] + ' | ' + board[5])\n",
    "    print('---------')\n",
    "    print(board[6] + ' | ' + board[7] + ' | ' + board[8])"
   ]
  },
  {
   "cell_type": "code",
   "execution_count": 12,
   "metadata": {},
   "outputs": [
    {
     "name": "stdout",
     "output_type": "stream",
     "text": [
      "1 | 2 | 3\n",
      "---------\n",
      "4 | 5 | 6\n",
      "---------\n",
      "7 | 8 | 9\n"
     ]
    }
   ],
   "source": [
    "test_board = ['1','2','3','4','5','6','7','8','9']\n",
    "display_board(test_board)"
   ]
  },
  {
   "cell_type": "markdown",
   "metadata": {},
   "source": [
    "**Step 2: Write a function that can take in a player input and assign their marker as 'X' or 'O'. Think about using *while* loops to continually ask until you get a correct answer.**"
   ]
  },
  {
   "cell_type": "code",
   "execution_count": null,
   "metadata": {},
   "outputs": [],
   "source": [
    "#Function to take input \n",
    "def player_input():\n",
    "    '''\n",
    "    Output Format: (Player1 marker, Player2 marker)\n",
    "    '''\n",
    "    \n",
    "    choice = ''     \n",
    "    while choice not in ['X','O']:\n",
    "        choice = input(\"Player A: Make your choice (X / O):\")\n",
    "    \n",
    "    if choice == 'X':\n",
    "        return ('X', 'O')\n",
    "    else:\n",
    "        return ('O', 'X')"
   ]
  },
  {
   "cell_type": "markdown",
   "metadata": {},
   "source": [
    "**Step 3: Write a function that takes in the board list object, a marker ('X' or 'O'), and a desired position (number 1-9) and assigns it to the board.**"
   ]
  },
  {
   "cell_type": "code",
   "execution_count": null,
   "metadata": {},
   "outputs": [],
   "source": [
    "def place_marker(board, position, mark):\n",
    "    board[position-1] = mark\n",
    "    return board"
   ]
  },
  {
   "cell_type": "markdown",
   "metadata": {},
   "source": [
    "**Step 4: Write a function that takes in a board and a mark (X or O) and then checks to see if that mark has won.**"
   ]
  },
  {
   "cell_type": "code",
   "execution_count": 13,
   "metadata": {},
   "outputs": [],
   "source": [
    "def win_check(board, mark):\n",
    "    #row check\n",
    "    if (board[0] == board[1] == board[2] == mark):\n",
    "        return True\n",
    "    elif (board[3] == board[4] == board[5] == mark):\n",
    "        return True\n",
    "    elif (board[6] == board[7] == board[8] == mark):\n",
    "        return True\n",
    "    #column check\n",
    "    elif (board[0] == board[3] == board[6] == mark):\n",
    "        return True\n",
    "    elif (board[1] == board[4] == board[7] == mark):\n",
    "        return True\n",
    "    elif (board[2] == board[5] == board[8] == mark):\n",
    "        return True\n",
    "    #diagonal check\n",
    "    elif (board[0] == board[4] == board[8] == mark):\n",
    "        return True\n",
    "    elif (board[2] == board[4] == board[6] == mark):\n",
    "        return True\n",
    "    else:\n",
    "        return False"
   ]
  },
  {
   "cell_type": "markdown",
   "metadata": {},
   "source": [
    "**Step 5: Write a function that uses the random module to randomly decide which player goes first. You may want to lookup random.randint() Return a string of which player went first.**"
   ]
  },
  {
   "cell_type": "code",
   "execution_count": 14,
   "metadata": {},
   "outputs": [],
   "source": [
    "import random\n",
    "\n",
    "def choose_first():\n",
    "    starter = random.randint(1,2)\n",
    "    if starter == 1:\n",
    "        return 'Player A'\n",
    "    else:\n",
    "        return 'Player B'"
   ]
  },
  {
   "cell_type": "markdown",
   "metadata": {},
   "source": [
    "**Step 6: Write a function that returns a boolean indicating whether a space on the board is freely available.**"
   ]
  },
  {
   "cell_type": "code",
   "execution_count": 15,
   "metadata": {},
   "outputs": [],
   "source": [
    "def space_check(board, position):\n",
    "    if board[position] == ' ':\n",
    "        return True\n",
    "    else:\n",
    "        return False"
   ]
  },
  {
   "cell_type": "markdown",
   "metadata": {},
   "source": [
    "**Step 7: Write a function that checks if the board is full and returns a boolean value. True if full, False otherwise.**"
   ]
  },
  {
   "cell_type": "code",
   "execution_count": 16,
   "metadata": {},
   "outputs": [],
   "source": [
    "def full_board_check(board):\n",
    "    \n",
    "    #Board is Full if we return True\n",
    "    \n",
    "    for i in range(0,9):\n",
    "        if space_check(board, i):\n",
    "            return False\n",
    "    \n",
    "    return True"
   ]
  },
  {
   "cell_type": "markdown",
   "metadata": {},
   "source": [
    "**Step 8: Write a function that asks for a player's next position (as a number 1-9) and then uses the function from step 6 to check if it's a free position. If it is, then return the position for later use.**"
   ]
  },
  {
   "cell_type": "code",
   "execution_count": null,
   "metadata": {},
   "outputs": [],
   "source": [
    "def player_choice(board):\n",
    "    place = int(input('Choose a place where you want to insert(1-9):'))\n",
    "    \n",
    "    while place not in range(1,10) or space_check(board, place-1) == False:\n",
    "        print('Wrong Choice!')\n",
    "        place = int(input('Choose a place where you want to insert(1-9):'))\n",
    "\n",
    "    return place"
   ]
  },
  {
   "cell_type": "markdown",
   "metadata": {},
   "source": [
    "**Step 9: Write a function that asks the player if they want to play again and returns a boolean True if they do want to play again.**"
   ]
  },
  {
   "cell_type": "code",
   "execution_count": null,
   "metadata": {},
   "outputs": [],
   "source": [
    "def replay():\n",
    "    play_again = input('Do you want to play again (Y/N)? ')\n",
    "    while play_again not in ['Y','N']:\n",
    "        print('Wrong Choice!')\n",
    "        play_again = input('Do you want to play again (Y/N)? ')\n",
    "    \n",
    "    if play_again == 'Y':\n",
    "        return True\n",
    "    else:\n",
    "        return False"
   ]
  },
  {
   "cell_type": "markdown",
   "metadata": {},
   "source": [
    "**Step 10: Here comes the hard part! Use while loops and the functions you've made to run the game!**"
   ]
  },
  {
   "cell_type": "code",
   "execution_count": null,
   "metadata": {},
   "outputs": [
    {
     "name": "stdout",
     "output_type": "stream",
     "text": [
      "Welcome to Tic Tac Toe!\n"
     ]
    }
   ],
   "source": [
    "print('Welcome to Tic Tac Toe!')\n",
    "\n",
    "while True:\n",
    "\n",
    "    #Setup (Board, Who is first,choose markers X, O)\n",
    "    \n",
    "    board = [' ']*9\n",
    "    choose_first()\n",
    "    p1_marker, p2_marker = player_input()\n",
    "    \n",
    "    turn = choose_first()\n",
    "    print(turn + ' will go first')\n",
    "    \n",
    "    play_game = input('Ready to play (Y/N)?')\n",
    "    \n",
    "    if play_game == 'Y':\n",
    "        game_on = True\n",
    "    else:\n",
    "        game_on = False\n",
    "\n",
    "    while game_on:\n",
    "        \n",
    "        if turn == 'Player A':\n",
    "        \n",
    "            # Show Board\n",
    "            display_board(board)\n",
    "        \n",
    "            # Choose Position\n",
    "            position = player_choice(board)\n",
    "        \n",
    "            # Place the marker in the position\n",
    "            place_marker(board, position, p1_marker)\n",
    "        \n",
    "            # Check if they Won?\n",
    "            if win_check(board, p1_marker):\n",
    "                display_board(board)\n",
    "                print('Player A won the game!')\n",
    "                game_on = False\n",
    "            else:\n",
    "                # or check if tie?\n",
    "                if full_board_check(board):\n",
    "                    display_board(board)\n",
    "                    print('Tie Game!')\n",
    "                    game_on = False\n",
    "                else:\n",
    "                    turn = 'Player B'\n",
    "        \n",
    "        # No tie or win? Next player's turn\n",
    "        else:\n",
    "             # Show Board\n",
    "            display_board(board)\n",
    "        \n",
    "            # Choose Position\n",
    "            position = player_choice(board)\n",
    "        \n",
    "            # Place the marker in the position\n",
    "            place_marker(board, position, p2_marker)\n",
    "        \n",
    "            # Check if they Won?\n",
    "            if win_check(board, p2_marker):\n",
    "                display_board(board)\n",
    "                print('Player B won the game!')\n",
    "                game_on = False\n",
    "            else:\n",
    "                # or check if tie?\n",
    "                if full_board_check(board):\n",
    "                    display_board(board)\n",
    "                    print('Tie Game!')\n",
    "                    game_on = False\n",
    "                else:\n",
    "                    turn = 'Player A'\n",
    "\n",
    "    if replay() == False:\n",
    "        break"
   ]
  },
  {
   "cell_type": "code",
   "execution_count": null,
   "metadata": {},
   "outputs": [],
   "source": []
  }
 ],
 "metadata": {
  "kernelspec": {
   "display_name": "Python 3",
   "language": "python3",
   "name": "python3"
  },
  "language_info": {
   "codemirror_mode": {
    "name": "ipython",
    "version": 3
   },
   "file_extension": ".py",
   "mimetype": "text/x-python",
   "name": "python",
   "nbconvert_exporter": "python",
   "pygments_lexer": "ipython3",
   "version": "3.7.0"
  }
 },
 "nbformat": 4,
 "nbformat_minor": 2
}
